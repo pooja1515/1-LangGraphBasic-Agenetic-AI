{
 "cells": [
  {
   "cell_type": "markdown",
   "id": "ce433ea3",
   "metadata": {},
   "source": [
    "## Implementing chatbot with  simple LangGraph"
   ]
  },
  {
   "cell_type": "code",
   "execution_count": 3,
   "id": "00fbb1fd",
   "metadata": {},
   "outputs": [],
   "source": [
    "from typing_extensions import TypedDict\n",
    "from langgraph.graph import StateGraph, START,END\n",
    "\n",
    "\n",
    "#reducers\n",
    "from typing import Annotated\n",
    "from langgraph.graph.message import add_messages\n"
   ]
  },
  {
   "cell_type": "code",
   "execution_count": 5,
   "id": "2b84b669",
   "metadata": {},
   "outputs": [],
   "source": [
    "class state(TypedDict):\n",
    "    messages : Annotated[list,add_messages]"
   ]
  },
  {
   "cell_type": "code",
   "execution_count": 6,
   "metadata": {},
   "outputs": [],
   "source": [
    "import os\n",
    "from dotenv import load_dotenv\n",
    "\n",
    "\n",
    "os.environ[\"OPENAI_API_KEY\"] = os.getenv(\"OPENAI_API_KEY\")\n",
    "os.environ[\"GROQ_API_KEY\"] = os.getenv(\"GROQ_API_KEY\")\n",
    "\n"
   ]
  },
  {
   "cell_type": "code",
   "execution_count": null,
   "metadata": {},
   "outputs": [],
   "source": [
    "# from langchain_openai import ChatOpenAI\n",
    "# llm= ChatOpenAI(model=\"gpt-4o\")\n",
    "# llm.invodke(\"hello\")"
   ]
  },
  {
   "cell_type": "code",
   "execution_count": 14,
   "id": "ab06e262",
   "metadata": {},
   "outputs": [
    {
     "data": {
      "text/plain": [
       "AIMessage(content=\"I'm just a language model, I don't have emotions or feelings like humans do, so I don't have good or bad days. I'm always ready to help you with any questions or tasks you may have! How can I assist you today?\", additional_kwargs={}, response_metadata={'token_usage': {'completion_tokens': 52, 'prompt_tokens': 16, 'total_tokens': 68, 'completion_time': 0.148571429, 'prompt_time': 0.000172817, 'queue_time': 0.054117663, 'total_time': 0.148744246}, 'model_name': 'llama3-70b-8192', 'system_fingerprint': 'fp_dd4ae1c591', 'finish_reason': 'stop', 'logprobs': None}, id='run--a5f751e0-21dd-4e02-aba1-0bc801bdd577-0', usage_metadata={'input_tokens': 16, 'output_tokens': 52, 'total_tokens': 68})"
      ]
     },
     "execution_count": 14,
     "metadata": {},
     "output_type": "execute_result"
    }
   ],
   "source": [
    "from langchain_groq import ChatGroq\n",
    "\n",
    "llm_groq = ChatGroq(model=\"llama3-70b-8192\")  \n",
    "\n",
    "llm_groq.invoke(\"Hello, how are you?\")\n",
    "  \n",
    "\n",
    "\n"
   ]
  },
  {
   "cell_type": "markdown",
   "id": "756f33b8",
   "metadata": {},
   "source": [
    "we will start creating nodes\n"
   ]
  },
  {
   "cell_type": "code",
   "execution_count": 15,
   "id": "fe90ccdb",
   "metadata": {},
   "outputs": [],
   "source": [
    "def superbot(state: state):\n",
    "    return {\"messages\": [llm_groq.invoke(state[\"messages\"])]}\n"
   ]
  },
  {
   "cell_type": "code",
   "execution_count": 16,
   "id": "8bfec9a1",
   "metadata": {},
   "outputs": [],
   "source": [
    "graph= StateGraph(state)\n",
    "\n",
    "graph.add_node(\"superbot\", superbot)\n",
    "\n",
    "#edges\n",
    "graph.add_edge(START, \"superbot\")\n",
    "graph.add_edge(\"superbot\", END)\n",
    "\n",
    "graph_builder= graph.compile()\n",
    "\n",
    "\n"
   ]
  },
  {
   "cell_type": "code",
   "execution_count": 20,
   "id": "c442aaa5",
   "metadata": {},
   "outputs": [
    {
     "data": {
      "image/png": "[encoded data removed]",
      "text/plain": [
       "<IPython.core.display.Image object>"
      ]
     },
     "metadata": {},
     "output_type": "display_data"
    }
   ],
   "source": [
    "from IPython.display import display , Image\n",
    "display(Image(graph_builder.get_graph().draw_mermaid_png()))"
   ]
  },
  {
   "cell_type": "code",
   "execution_count": 22,
   "id": "68062f79",
   "metadata": {},
   "outputs": [
    {
     "data": {
      "text/plain": [
       "{'messages': [HumanMessage(content='Hello, My name is pooja', additional_kwargs={}, response_metadata={}, id='c8149f1a-bae1-4da1-a694-0c581014903c'),\n",
       "  AIMessage(content=\"Namaste Pooja! It's nice to meet you. I'm your AI assistant, here to chat and help with any questions or topics you'd like to discuss. How's your day going so far?\", additional_kwargs={}, response_metadata={'token_usage': {'completion_tokens': 44, 'prompt_tokens': 17, 'total_tokens': 61, 'completion_time': 0.125714286, 'prompt_time': 0.000252096, 'queue_time': 0.057920413999999996, 'total_time': 0.125966382}, 'model_name': 'llama3-70b-8192', 'system_fingerprint': 'fp_dd4ae1c591', 'finish_reason': 'stop', 'logprobs': None}, id='run--2ff2a8c4-b8db-473a-bae4-c9d6887782ab-0', usage_metadata={'input_tokens': 17, 'output_tokens': 44, 'total_tokens': 61})]}"
      ]
     },
     "execution_count": 22,
     "metadata": {},
     "output_type": "execute_result"
    }
   ],
   "source": [
    "# invocation\n",
    "graph_builder.invoke({'messages': \"Hello, My name is pooja\"})"
   ]
  },
  {
   "cell_type": "markdown",
   "id": "3a899897",
   "metadata": {},
   "source": [
    "Streaming the responses\n"
   ]
  },
  {
   "cell_type": "code",
   "execution_count": null,
   "id": "920c4a9d",
   "metadata": {},
   "outputs": [
    {
     "name": "stdout",
     "output_type": "stream",
     "text": [
      "{'messages': [HumanMessage(content='Hello, My name is', additional_kwargs={}, response_metadata={}, id='45ed41b2-ae23-4718-a1f4-41c57c4bc162')]}\n",
      "{'messages': [HumanMessage(content='Hello, My name is', additional_kwargs={}, response_metadata={}, id='45ed41b2-ae23-4718-a1f4-41c57c4bc162'), AIMessage(content=\"Hello! It's nice to meet you. You were about to tell me your name, weren't you? Please go ahead and finish your sentence. I'm all ears!\", additional_kwargs={}, response_metadata={'token_usage': {'completion_tokens': 36, 'prompt_tokens': 15, 'total_tokens': 51, 'completion_time': 0.139336213, 'prompt_time': 0.000217377, 'queue_time': 0.059466032, 'total_time': 0.13955359}, 'model_name': 'llama3-70b-8192', 'system_fingerprint': 'fp_dd4ae1c591', 'finish_reason': 'stop', 'logprobs': None}, id='run--2ac42d6c-e441-4239-9624-3c87194accd4-0', usage_metadata={'input_tokens': 15, 'output_tokens': 36, 'total_tokens': 51})]}\n"
     ]
    }
   ],
   "source": [
    "for event in graph_builder.stream({'messages': \"Hello, My name is\"}, stream_mode=\"values\"):\n",
    "    print(event)"
   ]
  },
  {
   "cell_type": "code",
   "execution_count": null,
   "id": "81593da0",
   "metadata": {},
   "outputs": [],
   "source": []
  },
  {
   "cell_type": "code",
   "execution_count": null,
   "metadata": {},
   "outputs": [],
   "source": []
  },
  {
   "cell_type": "code",
   "execution_count": null,
   "metadata": {},
   "outputs": [],
   "source": []
  },
  {
   "cell_type": "code",
   "execution_count": null,
   "id": "cbbc14df",
   "metadata": {},
   "outputs": [],
   "source": []
  },
  {
   "cell_type": "code",
   "execution_count": null,
   "metadata": {},
   "outputs": [],
   "source": []
  },
  {
   "cell_type": "code",
   "execution_count": null,
   "metadata": {},
   "outputs": [],
   "source": []
  },
  {
   "cell_type": "code",
   "execution_count": null,
   "id": "e99de7b4",
   "metadata": {},
   "outputs": [],
   "source": []
  },
  {
   "cell_type": "code",
   "execution_count": null,
   "id": "2c648c44",
   "metadata": {},
   "outputs": [],
   "source": []
  }
 ],
 "metadata": {
  "kernelspec": {
   "display_name": "Python 3",
   "language": "python",
   "name": "python3"
  },
  "language_info": {
   "codemirror_mode": {
    "name": "ipython",
    "version": 3
   },
   "file_extension": ".py",
   "mimetype": "text/x-python",
   "name": "python",
   "nbconvert_exporter": "python",
   "pygments_lexer": "ipython3",
   "version": "3.12.0"
  }
 },
 "nbformat": 4,
 "nbformat_minor": 5
}
